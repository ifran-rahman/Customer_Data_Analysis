{
 "cells": [
  {
   "cell_type": "markdown",
   "metadata": {},
   "source": [
    "Imports"
   ]
  },
  {
   "cell_type": "code",
   "execution_count": 81,
   "metadata": {},
   "outputs": [],
   "source": [
    "import numpy as np\n",
    "import pandas as pd\n",
    "import matplotlib.pyplot as plt\n",
    "import seaborn as sns\n",
    "from sklearn.preprocessing import LabelEncoder\n",
    "from sklearn.model_selection import train_test_split\n",
    "from xgboost import XGBRegressor\n",
    "from sklearn import metrics\n",
    "import smogn\n",
    "import datetime\n",
    "from sklearn.preprocessing import StandardScaler\n",
    "from sklearn import preprocessing\n",
    "import joblib"
   ]
  },
  {
   "cell_type": "markdown",
   "metadata": {},
   "source": [
    "Data Collection and Processing"
   ]
  },
  {
   "cell_type": "code",
   "execution_count": 82,
   "metadata": {},
   "outputs": [
    {
     "name": "stderr",
     "output_type": "stream",
     "text": [
      "c:\\Users\\Asus\\anaconda3\\envs\\pytorch\\lib\\site-packages\\IPython\\core\\interactiveshell.py:3552: DtypeWarning: Columns (0) have mixed types.Specify dtype option on import or set low_memory=False.\n",
      "  exec(code_obj, self.user_global_ns, self.user_ns)\n"
     ]
    },
    {
     "data": {
      "text/html": [
       "<div>\n",
       "<style scoped>\n",
       "    .dataframe tbody tr th:only-of-type {\n",
       "        vertical-align: middle;\n",
       "    }\n",
       "\n",
       "    .dataframe tbody tr th {\n",
       "        vertical-align: top;\n",
       "    }\n",
       "\n",
       "    .dataframe thead th {\n",
       "        text-align: right;\n",
       "    }\n",
       "</style>\n",
       "<table border=\"1\" class=\"dataframe\">\n",
       "  <thead>\n",
       "    <tr style=\"text-align: right;\">\n",
       "      <th></th>\n",
       "      <th>order_id</th>\n",
       "      <th>order_date</th>\n",
       "      <th>status</th>\n",
       "      <th>item_id</th>\n",
       "      <th>sku</th>\n",
       "      <th>qty_ordered</th>\n",
       "      <th>price</th>\n",
       "      <th>value</th>\n",
       "      <th>discount_amount</th>\n",
       "      <th>total</th>\n",
       "      <th>...</th>\n",
       "      <th>SSN</th>\n",
       "      <th>Phone No.</th>\n",
       "      <th>Place Name</th>\n",
       "      <th>County</th>\n",
       "      <th>City</th>\n",
       "      <th>State</th>\n",
       "      <th>Zip</th>\n",
       "      <th>Region</th>\n",
       "      <th>User Name</th>\n",
       "      <th>Discount_Percent</th>\n",
       "    </tr>\n",
       "  </thead>\n",
       "  <tbody>\n",
       "    <tr>\n",
       "      <th>0</th>\n",
       "      <td>100354678</td>\n",
       "      <td>10/1/2020</td>\n",
       "      <td>received</td>\n",
       "      <td>574772</td>\n",
       "      <td>oasis_Oasis-064-36</td>\n",
       "      <td>20</td>\n",
       "      <td>89.9</td>\n",
       "      <td>1798.0</td>\n",
       "      <td>0.0</td>\n",
       "      <td>1798.0</td>\n",
       "      <td>...</td>\n",
       "      <td>627-31-5251</td>\n",
       "      <td>405-959-1129</td>\n",
       "      <td>Vinson</td>\n",
       "      <td>Harmon</td>\n",
       "      <td>Vinson</td>\n",
       "      <td>OK</td>\n",
       "      <td>73571</td>\n",
       "      <td>South</td>\n",
       "      <td>jwtitus</td>\n",
       "      <td>0.0</td>\n",
       "    </tr>\n",
       "    <tr>\n",
       "      <th>1</th>\n",
       "      <td>100354678</td>\n",
       "      <td>10/1/2020</td>\n",
       "      <td>received</td>\n",
       "      <td>574774</td>\n",
       "      <td>Fantastic_FT-48</td>\n",
       "      <td>10</td>\n",
       "      <td>19.0</td>\n",
       "      <td>190.0</td>\n",
       "      <td>0.0</td>\n",
       "      <td>190.0</td>\n",
       "      <td>...</td>\n",
       "      <td>627-31-5251</td>\n",
       "      <td>405-959-1129</td>\n",
       "      <td>Vinson</td>\n",
       "      <td>Harmon</td>\n",
       "      <td>Vinson</td>\n",
       "      <td>OK</td>\n",
       "      <td>73571</td>\n",
       "      <td>South</td>\n",
       "      <td>jwtitus</td>\n",
       "      <td>0.0</td>\n",
       "    </tr>\n",
       "    <tr>\n",
       "      <th>2</th>\n",
       "      <td>100354680</td>\n",
       "      <td>10/1/2020</td>\n",
       "      <td>complete</td>\n",
       "      <td>574777</td>\n",
       "      <td>mdeal_DMC-610-8</td>\n",
       "      <td>8</td>\n",
       "      <td>149.9</td>\n",
       "      <td>1199.2</td>\n",
       "      <td>0.0</td>\n",
       "      <td>1199.2</td>\n",
       "      <td>...</td>\n",
       "      <td>627-31-5251</td>\n",
       "      <td>405-959-1129</td>\n",
       "      <td>Vinson</td>\n",
       "      <td>Harmon</td>\n",
       "      <td>Vinson</td>\n",
       "      <td>OK</td>\n",
       "      <td>73571</td>\n",
       "      <td>South</td>\n",
       "      <td>jwtitus</td>\n",
       "      <td>0.0</td>\n",
       "    </tr>\n",
       "  </tbody>\n",
       "</table>\n",
       "<p>3 rows × 36 columns</p>\n",
       "</div>"
      ],
      "text/plain": [
       "    order_id order_date    status  item_id                 sku  qty_ordered  \\\n",
       "0  100354678  10/1/2020  received   574772  oasis_Oasis-064-36           20   \n",
       "1  100354678  10/1/2020  received   574774     Fantastic_FT-48           10   \n",
       "2  100354680  10/1/2020  complete   574777     mdeal_DMC-610-8            8   \n",
       "\n",
       "   price   value  discount_amount   total  ...          SSN    Phone No.   \\\n",
       "0   89.9  1798.0              0.0  1798.0  ...  627-31-5251  405-959-1129   \n",
       "1   19.0   190.0              0.0   190.0  ...  627-31-5251  405-959-1129   \n",
       "2  149.9  1199.2              0.0  1199.2  ...  627-31-5251  405-959-1129   \n",
       "\n",
       "  Place Name  County    City State    Zip Region User Name Discount_Percent  \n",
       "0     Vinson  Harmon  Vinson    OK  73571  South   jwtitus              0.0  \n",
       "1     Vinson  Harmon  Vinson    OK  73571  South   jwtitus              0.0  \n",
       "2     Vinson  Harmon  Vinson    OK  73571  South   jwtitus              0.0  \n",
       "\n",
       "[3 rows x 36 columns]"
      ]
     },
     "execution_count": 82,
     "metadata": {},
     "output_type": "execute_result"
    }
   ],
   "source": [
    "# load data\n",
    "dataset = pd.read_csv('sales_dataset.csv')\n",
    "dataset.head(3)"
   ]
  },
  {
   "cell_type": "markdown",
   "metadata": {},
   "source": [
    "calculate duration of being customer"
   ]
  },
  {
   "cell_type": "code",
   "execution_count": 83,
   "metadata": {},
   "outputs": [],
   "source": [
    "order_dates = pd.DataFrame()\n",
    "regestration_dates = pd.DataFrame()\n",
    "\n",
    "order_dates[['order_month','order_date', 'order_year']] = dataset.order_date.str.split(\"/\", expand=True)\n",
    "regestration_dates[['customer_since_month','customer_since_date', 'customer_since_year']] = dataset.Customer_Since.str.split(\"/\", expand=True)"
   ]
  },
  {
   "cell_type": "code",
   "execution_count": 84,
   "metadata": {},
   "outputs": [],
   "source": [
    "customer_since = []\n",
    "row_list = []\n",
    "row_list.extend(range(len(dataset)))\n",
    "\n",
    "def duration(i):\n",
    "    y = int(regestration_dates.customer_since_year[i])\n",
    "    m = int(regestration_dates.customer_since_month[i])\n",
    "    d = int(regestration_dates.customer_since_date[i])\n",
    "    regestration_day = datetime.date(y,m,d)\n",
    "    y = int(order_dates.order_year[i])\n",
    "    m = int(order_dates.order_month[i])\n",
    "    d = int(order_dates.order_date[i])\n",
    "    order_day = datetime.date(y,m,d)\n",
    "    duration = order_day - regestration_day\n",
    "    return duration.days\n",
    "\n",
    "customer_since = list(map(duration, row_list))"
   ]
  },
  {
   "cell_type": "code",
   "execution_count": 85,
   "metadata": {},
   "outputs": [],
   "source": [
    "dataset['customer_since'] = customer_since"
   ]
  },
  {
   "cell_type": "markdown",
   "metadata": {},
   "source": [
    "Data Preprocessing"
   ]
  },
  {
   "cell_type": "code",
   "execution_count": 86,
   "metadata": {},
   "outputs": [
    {
     "data": {
      "text/html": [
       "<div>\n",
       "<style scoped>\n",
       "    .dataframe tbody tr th:only-of-type {\n",
       "        vertical-align: middle;\n",
       "    }\n",
       "\n",
       "    .dataframe tbody tr th {\n",
       "        vertical-align: top;\n",
       "    }\n",
       "\n",
       "    .dataframe thead th {\n",
       "        text-align: right;\n",
       "    }\n",
       "</style>\n",
       "<table border=\"1\" class=\"dataframe\">\n",
       "  <thead>\n",
       "    <tr style=\"text-align: right;\">\n",
       "      <th></th>\n",
       "      <th>customer_since</th>\n",
       "      <th>category</th>\n",
       "      <th>Gender</th>\n",
       "      <th>age</th>\n",
       "      <th>Region</th>\n",
       "      <th>State</th>\n",
       "      <th>price</th>\n",
       "      <th>Discount_Percent</th>\n",
       "      <th>total</th>\n",
       "    </tr>\n",
       "  </thead>\n",
       "  <tbody>\n",
       "    <tr>\n",
       "      <th>286389</th>\n",
       "      <td>12486</td>\n",
       "      <td>Women's Fashion</td>\n",
       "      <td>F</td>\n",
       "      <td>38</td>\n",
       "      <td>South</td>\n",
       "      <td>NC</td>\n",
       "      <td>40.0</td>\n",
       "      <td>0.0</td>\n",
       "      <td>40.0</td>\n",
       "    </tr>\n",
       "    <tr>\n",
       "      <th>286390</th>\n",
       "      <td>12486</td>\n",
       "      <td>Women's Fashion</td>\n",
       "      <td>F</td>\n",
       "      <td>38</td>\n",
       "      <td>South</td>\n",
       "      <td>NC</td>\n",
       "      <td>49.9</td>\n",
       "      <td>0.0</td>\n",
       "      <td>49.9</td>\n",
       "    </tr>\n",
       "    <tr>\n",
       "      <th>286391</th>\n",
       "      <td>2437</td>\n",
       "      <td>Mobiles &amp; Tablets</td>\n",
       "      <td>M</td>\n",
       "      <td>28</td>\n",
       "      <td>South</td>\n",
       "      <td>TN</td>\n",
       "      <td>3559.9</td>\n",
       "      <td>0.0</td>\n",
       "      <td>3559.9</td>\n",
       "    </tr>\n",
       "  </tbody>\n",
       "</table>\n",
       "</div>"
      ],
      "text/plain": [
       "        customer_since           category Gender  age Region State   price  \\\n",
       "286389           12486    Women's Fashion      F   38  South    NC    40.0   \n",
       "286390           12486    Women's Fashion      F   38  South    NC    49.9   \n",
       "286391            2437  Mobiles & Tablets      M   28  South    TN  3559.9   \n",
       "\n",
       "        Discount_Percent   total  \n",
       "286389               0.0    40.0  \n",
       "286390               0.0    49.9  \n",
       "286391               0.0  3559.9  "
      ]
     },
     "execution_count": 86,
     "metadata": {},
     "output_type": "execute_result"
    }
   ],
   "source": [
    "# keep relevant features\n",
    "dataset = dataset[['customer_since', 'category', 'Gender', 'age', 'Region', 'State', 'price', 'Discount_Percent', 'total']]\n",
    "dataset.tail(3)"
   ]
  },
  {
   "cell_type": "code",
   "execution_count": 87,
   "metadata": {},
   "outputs": [
    {
     "name": "stdout",
     "output_type": "stream",
     "text": [
      "<class 'pandas.core.frame.DataFrame'>\n",
      "RangeIndex: 286392 entries, 0 to 286391\n",
      "Data columns (total 9 columns):\n",
      " #   Column            Non-Null Count   Dtype  \n",
      "---  ------            --------------   -----  \n",
      " 0   customer_since    286392 non-null  int64  \n",
      " 1   category          286392 non-null  object \n",
      " 2   Gender            286392 non-null  object \n",
      " 3   age               286392 non-null  int64  \n",
      " 4   Region            286392 non-null  object \n",
      " 5   State             286392 non-null  object \n",
      " 6   price             286392 non-null  float64\n",
      " 7   Discount_Percent  286392 non-null  float64\n",
      " 8   total             286392 non-null  float64\n",
      "dtypes: float64(3), int64(2), object(4)\n",
      "memory usage: 19.7+ MB\n"
     ]
    }
   ],
   "source": [
    "# get information about the dataset\n",
    "dataset.info()"
   ]
  },
  {
   "cell_type": "markdown",
   "metadata": {},
   "source": [
    "###### Categorical Features - months | category | gender | region | state "
   ]
  },
  {
   "cell_type": "markdown",
   "metadata": {},
   "source": [
    "Label Encoding"
   ]
  },
  {
   "cell_type": "code",
   "execution_count": 88,
   "metadata": {},
   "outputs": [],
   "source": [
    "encoder = LabelEncoder()"
   ]
  },
  {
   "cell_type": "code",
   "execution_count": 89,
   "metadata": {},
   "outputs": [],
   "source": [
    "cat_features = ['category', 'Gender', 'Region', 'State']\n",
    "\n",
    "for cat_feature in cat_features:\n",
    "    dataset[cat_feature] = encoder.fit_transform(dataset[cat_feature])"
   ]
  },
  {
   "cell_type": "code",
   "execution_count": 90,
   "metadata": {},
   "outputs": [
    {
     "data": {
      "text/html": [
       "<div>\n",
       "<style scoped>\n",
       "    .dataframe tbody tr th:only-of-type {\n",
       "        vertical-align: middle;\n",
       "    }\n",
       "\n",
       "    .dataframe tbody tr th {\n",
       "        vertical-align: top;\n",
       "    }\n",
       "\n",
       "    .dataframe thead th {\n",
       "        text-align: right;\n",
       "    }\n",
       "</style>\n",
       "<table border=\"1\" class=\"dataframe\">\n",
       "  <thead>\n",
       "    <tr style=\"text-align: right;\">\n",
       "      <th></th>\n",
       "      <th>customer_since</th>\n",
       "      <th>category</th>\n",
       "      <th>Gender</th>\n",
       "      <th>age</th>\n",
       "      <th>Region</th>\n",
       "      <th>State</th>\n",
       "      <th>price</th>\n",
       "      <th>Discount_Percent</th>\n",
       "      <th>total</th>\n",
       "    </tr>\n",
       "  </thead>\n",
       "  <tbody>\n",
       "    <tr>\n",
       "      <th>286389</th>\n",
       "      <td>12486</td>\n",
       "      <td>14</td>\n",
       "      <td>0</td>\n",
       "      <td>38</td>\n",
       "      <td>2</td>\n",
       "      <td>27</td>\n",
       "      <td>40.0</td>\n",
       "      <td>0.0</td>\n",
       "      <td>40.0</td>\n",
       "    </tr>\n",
       "    <tr>\n",
       "      <th>286390</th>\n",
       "      <td>12486</td>\n",
       "      <td>14</td>\n",
       "      <td>0</td>\n",
       "      <td>38</td>\n",
       "      <td>2</td>\n",
       "      <td>27</td>\n",
       "      <td>49.9</td>\n",
       "      <td>0.0</td>\n",
       "      <td>49.9</td>\n",
       "    </tr>\n",
       "    <tr>\n",
       "      <th>286391</th>\n",
       "      <td>2437</td>\n",
       "      <td>9</td>\n",
       "      <td>1</td>\n",
       "      <td>28</td>\n",
       "      <td>2</td>\n",
       "      <td>42</td>\n",
       "      <td>3559.9</td>\n",
       "      <td>0.0</td>\n",
       "      <td>3559.9</td>\n",
       "    </tr>\n",
       "  </tbody>\n",
       "</table>\n",
       "</div>"
      ],
      "text/plain": [
       "        customer_since  category  Gender  age  Region  State   price  \\\n",
       "286389           12486        14       0   38       2     27    40.0   \n",
       "286390           12486        14       0   38       2     27    49.9   \n",
       "286391            2437         9       1   28       2     42  3559.9   \n",
       "\n",
       "        Discount_Percent   total  \n",
       "286389               0.0    40.0  \n",
       "286390               0.0    49.9  \n",
       "286391               0.0  3559.9  "
      ]
     },
     "execution_count": 90,
     "metadata": {},
     "output_type": "execute_result"
    }
   ],
   "source": [
    "dataset.tail(3)"
   ]
  },
  {
   "cell_type": "markdown",
   "metadata": {},
   "source": [
    "Split train and test dataset"
   ]
  },
  {
   "cell_type": "code",
   "execution_count": 91,
   "metadata": {},
   "outputs": [],
   "source": [
    "X = dataset.drop(columns='total', axis=1)\n",
    "Y = dataset['total']"
   ]
  },
  {
   "cell_type": "code",
   "execution_count": 93,
   "metadata": {},
   "outputs": [],
   "source": [
    "X_train, X_test, Y_train, Y_test = train_test_split(X, Y, test_size=0.25, random_state=2)"
   ]
  },
  {
   "cell_type": "code",
   "execution_count": 94,
   "metadata": {},
   "outputs": [
    {
     "data": {
      "text/plain": [
       "(214794, 8)"
      ]
     },
     "execution_count": 94,
     "metadata": {},
     "output_type": "execute_result"
    }
   ],
   "source": [
    "X_train.shape"
   ]
  },
  {
   "cell_type": "markdown",
   "metadata": {},
   "source": [
    "Feature Scaling"
   ]
  },
  {
   "cell_type": "code",
   "execution_count": 101,
   "metadata": {},
   "outputs": [],
   "source": [
    "from sklearn.preprocessing import StandardScaler\n",
    "from sklearn import preprocessing\n",
    "\n",
    "#Creating StandardScaler Object\n",
    "scaler = preprocessing.StandardScaler() \n",
    "\n",
    "\n",
    "X_train = scaler.fit_transform(X_train)\n",
    "X_test = scaler.transform(X_test) "
   ]
  },
  {
   "cell_type": "markdown",
   "metadata": {},
   "source": [
    "Model Training"
   ]
  },
  {
   "cell_type": "code",
   "execution_count": 102,
   "metadata": {},
   "outputs": [],
   "source": [
    "regressor = XGBRegressor()"
   ]
  },
  {
   "cell_type": "code",
   "execution_count": 103,
   "metadata": {},
   "outputs": [
    {
     "data": {
      "text/plain": [
       "XGBRegressor(base_score=0.5, booster='gbtree', callbacks=None,\n",
       "             colsample_bylevel=1, colsample_bynode=1, colsample_bytree=1,\n",
       "             early_stopping_rounds=None, enable_categorical=False,\n",
       "             eval_metric=None, gamma=0, gpu_id=-1, grow_policy='depthwise',\n",
       "             importance_type=None, interaction_constraints='',\n",
       "             learning_rate=0.300000012, max_bin=256, max_cat_to_onehot=4,\n",
       "             max_delta_step=0, max_depth=6, max_leaves=0, min_child_weight=1,\n",
       "             missing=nan, monotone_constraints='()', n_estimators=100, n_jobs=0,\n",
       "             num_parallel_tree=1, predictor='auto', random_state=0, reg_alpha=0,\n",
       "             reg_lambda=1, ...)"
      ]
     },
     "execution_count": 103,
     "metadata": {},
     "output_type": "execute_result"
    }
   ],
   "source": [
    "regressor.fit(X_train, Y_train)"
   ]
  },
  {
   "cell_type": "markdown",
   "metadata": {},
   "source": [
    "Evaluation"
   ]
  },
  {
   "cell_type": "code",
   "execution_count": 104,
   "metadata": {},
   "outputs": [
    {
     "ename": "ValueError",
     "evalue": "Found input variables with inconsistent numbers of samples: [214794, 71598]",
     "output_type": "error",
     "traceback": [
      "\u001b[1;31m---------------------------------------------------------------------------\u001b[0m",
      "\u001b[1;31mValueError\u001b[0m                                Traceback (most recent call last)",
      "\u001b[1;32m~\\AppData\\Local\\Temp\\ipykernel_1788\\545461294.py\u001b[0m in \u001b[0;36m<module>\u001b[1;34m\u001b[0m\n\u001b[0;32m      3\u001b[0m \u001b[1;33m\u001b[0m\u001b[0m\n\u001b[0;32m      4\u001b[0m \u001b[1;31m# R squared Value\u001b[0m\u001b[1;33m\u001b[0m\u001b[1;33m\u001b[0m\u001b[1;33m\u001b[0m\u001b[0m\n\u001b[1;32m----> 5\u001b[1;33m \u001b[0mr2_train\u001b[0m \u001b[1;33m=\u001b[0m \u001b[0mmetrics\u001b[0m\u001b[1;33m.\u001b[0m\u001b[0mr2_score\u001b[0m\u001b[1;33m(\u001b[0m\u001b[0mY_train\u001b[0m\u001b[1;33m,\u001b[0m \u001b[0mtraining_data_prediction\u001b[0m\u001b[1;33m)\u001b[0m\u001b[1;33m\u001b[0m\u001b[1;33m\u001b[0m\u001b[0m\n\u001b[0m\u001b[0;32m      6\u001b[0m \u001b[0mprint\u001b[0m\u001b[1;33m(\u001b[0m\u001b[1;34m'R Squared value = '\u001b[0m\u001b[1;33m,\u001b[0m \u001b[0mr2_train\u001b[0m\u001b[1;33m)\u001b[0m\u001b[1;33m\u001b[0m\u001b[1;33m\u001b[0m\u001b[0m\n",
      "\u001b[1;32mc:\\Users\\Asus\\anaconda3\\envs\\pytorch\\lib\\site-packages\\sklearn\\metrics\\_regression.py\u001b[0m in \u001b[0;36mr2_score\u001b[1;34m(y_true, y_pred, sample_weight, multioutput)\u001b[0m\n\u001b[0;32m    788\u001b[0m     \"\"\"\n\u001b[0;32m    789\u001b[0m     y_type, y_true, y_pred, multioutput = _check_reg_targets(\n\u001b[1;32m--> 790\u001b[1;33m         \u001b[0my_true\u001b[0m\u001b[1;33m,\u001b[0m \u001b[0my_pred\u001b[0m\u001b[1;33m,\u001b[0m \u001b[0mmultioutput\u001b[0m\u001b[1;33m\u001b[0m\u001b[1;33m\u001b[0m\u001b[0m\n\u001b[0m\u001b[0;32m    791\u001b[0m     )\n\u001b[0;32m    792\u001b[0m     \u001b[0mcheck_consistent_length\u001b[0m\u001b[1;33m(\u001b[0m\u001b[0my_true\u001b[0m\u001b[1;33m,\u001b[0m \u001b[0my_pred\u001b[0m\u001b[1;33m,\u001b[0m \u001b[0msample_weight\u001b[0m\u001b[1;33m)\u001b[0m\u001b[1;33m\u001b[0m\u001b[1;33m\u001b[0m\u001b[0m\n",
      "\u001b[1;32mc:\\Users\\Asus\\anaconda3\\envs\\pytorch\\lib\\site-packages\\sklearn\\metrics\\_regression.py\u001b[0m in \u001b[0;36m_check_reg_targets\u001b[1;34m(y_true, y_pred, multioutput, dtype)\u001b[0m\n\u001b[0;32m     92\u001b[0m         \u001b[0mthe\u001b[0m \u001b[0mdtype\u001b[0m \u001b[0margument\u001b[0m \u001b[0mpassed\u001b[0m \u001b[0mto\u001b[0m \u001b[0mcheck_array\u001b[0m\u001b[1;33m.\u001b[0m\u001b[1;33m\u001b[0m\u001b[1;33m\u001b[0m\u001b[0m\n\u001b[0;32m     93\u001b[0m     \"\"\"\n\u001b[1;32m---> 94\u001b[1;33m     \u001b[0mcheck_consistent_length\u001b[0m\u001b[1;33m(\u001b[0m\u001b[0my_true\u001b[0m\u001b[1;33m,\u001b[0m \u001b[0my_pred\u001b[0m\u001b[1;33m)\u001b[0m\u001b[1;33m\u001b[0m\u001b[1;33m\u001b[0m\u001b[0m\n\u001b[0m\u001b[0;32m     95\u001b[0m     \u001b[0my_true\u001b[0m \u001b[1;33m=\u001b[0m \u001b[0mcheck_array\u001b[0m\u001b[1;33m(\u001b[0m\u001b[0my_true\u001b[0m\u001b[1;33m,\u001b[0m \u001b[0mensure_2d\u001b[0m\u001b[1;33m=\u001b[0m\u001b[1;32mFalse\u001b[0m\u001b[1;33m,\u001b[0m \u001b[0mdtype\u001b[0m\u001b[1;33m=\u001b[0m\u001b[0mdtype\u001b[0m\u001b[1;33m)\u001b[0m\u001b[1;33m\u001b[0m\u001b[1;33m\u001b[0m\u001b[0m\n\u001b[0;32m     96\u001b[0m     \u001b[0my_pred\u001b[0m \u001b[1;33m=\u001b[0m \u001b[0mcheck_array\u001b[0m\u001b[1;33m(\u001b[0m\u001b[0my_pred\u001b[0m\u001b[1;33m,\u001b[0m \u001b[0mensure_2d\u001b[0m\u001b[1;33m=\u001b[0m\u001b[1;32mFalse\u001b[0m\u001b[1;33m,\u001b[0m \u001b[0mdtype\u001b[0m\u001b[1;33m=\u001b[0m\u001b[0mdtype\u001b[0m\u001b[1;33m)\u001b[0m\u001b[1;33m\u001b[0m\u001b[1;33m\u001b[0m\u001b[0m\n",
      "\u001b[1;32mc:\\Users\\Asus\\anaconda3\\envs\\pytorch\\lib\\site-packages\\sklearn\\utils\\validation.py\u001b[0m in \u001b[0;36mcheck_consistent_length\u001b[1;34m(*arrays)\u001b[0m\n\u001b[0;32m    332\u001b[0m         raise ValueError(\n\u001b[0;32m    333\u001b[0m             \u001b[1;34m\"Found input variables with inconsistent numbers of samples: %r\"\u001b[0m\u001b[1;33m\u001b[0m\u001b[1;33m\u001b[0m\u001b[0m\n\u001b[1;32m--> 334\u001b[1;33m             \u001b[1;33m%\u001b[0m \u001b[1;33m[\u001b[0m\u001b[0mint\u001b[0m\u001b[1;33m(\u001b[0m\u001b[0ml\u001b[0m\u001b[1;33m)\u001b[0m \u001b[1;32mfor\u001b[0m \u001b[0ml\u001b[0m \u001b[1;32min\u001b[0m \u001b[0mlengths\u001b[0m\u001b[1;33m]\u001b[0m\u001b[1;33m\u001b[0m\u001b[1;33m\u001b[0m\u001b[0m\n\u001b[0m\u001b[0;32m    335\u001b[0m         )\n\u001b[0;32m    336\u001b[0m \u001b[1;33m\u001b[0m\u001b[0m\n",
      "\u001b[1;31mValueError\u001b[0m: Found input variables with inconsistent numbers of samples: [214794, 71598]"
     ]
    }
   ],
   "source": [
    "# prediction on training data\n",
    "training_data_prediction = regressor.predict(X_train)\n",
    "\n",
    "# R squared Value\n",
    "r2_train = metrics.r2_score(Y_train, training_data_prediction)\n",
    "print('R Squared value = ', r2_train)"
   ]
  },
  {
   "cell_type": "code",
   "execution_count": null,
   "metadata": {},
   "outputs": [
    {
     "name": "stdout",
     "output_type": "stream",
     "text": [
      "R Squared value =  0.865342411788325\n"
     ]
    }
   ],
   "source": [
    "# prediction on test data\n",
    "test_data_prediction = regressor.predict(X_test)\n",
    "# R squared Value\n",
    "r2_test = metrics.r2_score(Y_test, test_data_prediction)\n",
    "print('R Squared value = ', r2_test)"
   ]
  },
  {
   "cell_type": "code",
   "execution_count": null,
   "metadata": {},
   "outputs": [],
   "source": [
    "\n",
    "joblib.dump(regressor, \"xgb_reg.sav\")\n",
    "xgb_reg = joblib.load(\"xgb_reg.sav\")"
   ]
  },
  {
   "cell_type": "code",
   "execution_count": null,
   "metadata": {},
   "outputs": [],
   "source": [
    "def process_inputs(dataset, customer_since, category,\tgender,\tage,\tregion,\tstate,\tprice,\tdiscount_percentage):\n",
    "   #Creating StandardScaler Object\n",
    "    scaler = preprocessing.StandardScaler() \n",
    "   \n",
    "    data = [[customer_since, category,\tgender,\tage,\tregion,\tstate,\tprice,\tdiscount_percentage]]\n",
    "\n",
    "    # Create the pandas DataFrame\n",
    "    df = pd.DataFrame(data, columns=['customer_since', 'category',\t'gender',\t'age',\t'region',\t'state',\t'price',\t'discount_percentage'])\n",
    "\n",
    "    #Creating StandardScaler Object\n",
    "    scaler = preprocessing.StandardScaler() \n",
    "    dataset = scaler.fit_transform(dataset)\n",
    "\n",
    "    df = scaler.transform(df) \n",
    "    \n",
    "    \n",
    "    return df"
   ]
  },
  {
   "cell_type": "code",
   "execution_count": null,
   "metadata": {},
   "outputs": [
    {
     "name": "stderr",
     "output_type": "stream",
     "text": [
      "c:\\Users\\Asus\\anaconda3\\envs\\pytorch\\lib\\site-packages\\sklearn\\base.py:493: FutureWarning: The feature names should match those that were passed during fit. Starting version 1.2, an error will be raised.\n",
      "Feature names unseen at fit time:\n",
      "- discount_percentage\n",
      "- gender\n",
      "- region\n",
      "- state\n",
      "Feature names seen at fit time, yet now missing:\n",
      "- Discount_Percent\n",
      "- Gender\n",
      "- Region\n",
      "- State\n",
      "\n",
      "  warnings.warn(message, FutureWarning)\n"
     ]
    },
    {
     "data": {
      "text/plain": [
       "array([74.07053], dtype=float32)"
      ]
     },
     "execution_count": 80,
     "metadata": {},
     "output_type": "execute_result"
    }
   ],
   "source": [
    "dataset = pd.read_csv('scaled_trainset.csv')\n",
    "x = process_inputs(dataset,12486,\t14,\t0,\t38,\t2,\t27,\t49.9,\t0.0)\n",
    "\n",
    "regressor = joblib.load(\"xgb_reg.sav\")\n",
    "tut = regressor.predict(x)\n",
    "tut"
   ]
  },
  {
   "cell_type": "code",
   "execution_count": null,
   "metadata": {},
   "outputs": [],
   "source": []
  }
 ],
 "metadata": {
  "kernelspec": {
   "display_name": "Python 3.7.5 ('pytorch')",
   "language": "python",
   "name": "python3"
  },
  "language_info": {
   "codemirror_mode": {
    "name": "ipython",
    "version": 3
   },
   "file_extension": ".py",
   "mimetype": "text/x-python",
   "name": "python",
   "nbconvert_exporter": "python",
   "pygments_lexer": "ipython3",
   "version": "3.7.5"
  },
  "orig_nbformat": 4,
  "vscode": {
   "interpreter": {
    "hash": "da6252835bcce250c2c60fcac2596d9e161b65de6a004025a1bc9c3d985bafe9"
   }
  }
 },
 "nbformat": 4,
 "nbformat_minor": 2
}
