{
 "cells": [
  {
   "cell_type": "markdown",
   "metadata": {},
   "source": [
    "Imports"
   ]
  },
  {
   "cell_type": "code",
   "execution_count": 1,
   "metadata": {},
   "outputs": [],
   "source": [
    "import numpy as np\n",
    "import pandas as pd\n",
    "import matplotlib.pyplot as plt\n",
    "import seaborn as sns\n",
    "from sklearn.preprocessing import LabelEncoder\n",
    "from sklearn.model_selection import train_test_split\n",
    "from xgboost import XGBRegressor\n",
    "from sklearn import metrics\n",
    "import smogn"
   ]
  },
  {
   "cell_type": "markdown",
   "metadata": {},
   "source": [
    "Data Collection and Processing"
   ]
  },
  {
   "cell_type": "code",
   "execution_count": 2,
   "metadata": {},
   "outputs": [
    {
     "name": "stderr",
     "output_type": "stream",
     "text": [
      "c:\\Users\\Asus\\anaconda3\\envs\\pytorch\\lib\\site-packages\\IPython\\core\\interactiveshell.py:3552: DtypeWarning: Columns (0) have mixed types.Specify dtype option on import or set low_memory=False.\n",
      "  exec(code_obj, self.user_global_ns, self.user_ns)\n"
     ]
    },
    {
     "data": {
      "text/html": [
       "<div>\n",
       "<style scoped>\n",
       "    .dataframe tbody tr th:only-of-type {\n",
       "        vertical-align: middle;\n",
       "    }\n",
       "\n",
       "    .dataframe tbody tr th {\n",
       "        vertical-align: top;\n",
       "    }\n",
       "\n",
       "    .dataframe thead th {\n",
       "        text-align: right;\n",
       "    }\n",
       "</style>\n",
       "<table border=\"1\" class=\"dataframe\">\n",
       "  <thead>\n",
       "    <tr style=\"text-align: right;\">\n",
       "      <th></th>\n",
       "      <th>order_id</th>\n",
       "      <th>order_date</th>\n",
       "      <th>status</th>\n",
       "      <th>item_id</th>\n",
       "      <th>sku</th>\n",
       "      <th>qty_ordered</th>\n",
       "      <th>price</th>\n",
       "      <th>value</th>\n",
       "      <th>discount_amount</th>\n",
       "      <th>total</th>\n",
       "      <th>...</th>\n",
       "      <th>SSN</th>\n",
       "      <th>Phone No.</th>\n",
       "      <th>Place Name</th>\n",
       "      <th>County</th>\n",
       "      <th>City</th>\n",
       "      <th>State</th>\n",
       "      <th>Zip</th>\n",
       "      <th>Region</th>\n",
       "      <th>User Name</th>\n",
       "      <th>Discount_Percent</th>\n",
       "    </tr>\n",
       "  </thead>\n",
       "  <tbody>\n",
       "    <tr>\n",
       "      <th>0</th>\n",
       "      <td>100354678</td>\n",
       "      <td>10/1/2020</td>\n",
       "      <td>received</td>\n",
       "      <td>574772</td>\n",
       "      <td>oasis_Oasis-064-36</td>\n",
       "      <td>20</td>\n",
       "      <td>89.9</td>\n",
       "      <td>1798.0</td>\n",
       "      <td>0.0</td>\n",
       "      <td>1798.0</td>\n",
       "      <td>...</td>\n",
       "      <td>627-31-5251</td>\n",
       "      <td>405-959-1129</td>\n",
       "      <td>Vinson</td>\n",
       "      <td>Harmon</td>\n",
       "      <td>Vinson</td>\n",
       "      <td>OK</td>\n",
       "      <td>73571</td>\n",
       "      <td>South</td>\n",
       "      <td>jwtitus</td>\n",
       "      <td>0.0</td>\n",
       "    </tr>\n",
       "    <tr>\n",
       "      <th>1</th>\n",
       "      <td>100354678</td>\n",
       "      <td>10/1/2020</td>\n",
       "      <td>received</td>\n",
       "      <td>574774</td>\n",
       "      <td>Fantastic_FT-48</td>\n",
       "      <td>10</td>\n",
       "      <td>19.0</td>\n",
       "      <td>190.0</td>\n",
       "      <td>0.0</td>\n",
       "      <td>190.0</td>\n",
       "      <td>...</td>\n",
       "      <td>627-31-5251</td>\n",
       "      <td>405-959-1129</td>\n",
       "      <td>Vinson</td>\n",
       "      <td>Harmon</td>\n",
       "      <td>Vinson</td>\n",
       "      <td>OK</td>\n",
       "      <td>73571</td>\n",
       "      <td>South</td>\n",
       "      <td>jwtitus</td>\n",
       "      <td>0.0</td>\n",
       "    </tr>\n",
       "    <tr>\n",
       "      <th>2</th>\n",
       "      <td>100354680</td>\n",
       "      <td>10/1/2020</td>\n",
       "      <td>complete</td>\n",
       "      <td>574777</td>\n",
       "      <td>mdeal_DMC-610-8</td>\n",
       "      <td>8</td>\n",
       "      <td>149.9</td>\n",
       "      <td>1199.2</td>\n",
       "      <td>0.0</td>\n",
       "      <td>1199.2</td>\n",
       "      <td>...</td>\n",
       "      <td>627-31-5251</td>\n",
       "      <td>405-959-1129</td>\n",
       "      <td>Vinson</td>\n",
       "      <td>Harmon</td>\n",
       "      <td>Vinson</td>\n",
       "      <td>OK</td>\n",
       "      <td>73571</td>\n",
       "      <td>South</td>\n",
       "      <td>jwtitus</td>\n",
       "      <td>0.0</td>\n",
       "    </tr>\n",
       "  </tbody>\n",
       "</table>\n",
       "<p>3 rows × 36 columns</p>\n",
       "</div>"
      ],
      "text/plain": [
       "    order_id order_date    status  item_id                 sku  qty_ordered  \\\n",
       "0  100354678  10/1/2020  received   574772  oasis_Oasis-064-36           20   \n",
       "1  100354678  10/1/2020  received   574774     Fantastic_FT-48           10   \n",
       "2  100354680  10/1/2020  complete   574777     mdeal_DMC-610-8            8   \n",
       "\n",
       "   price   value  discount_amount   total  ...          SSN    Phone No.   \\\n",
       "0   89.9  1798.0              0.0  1798.0  ...  627-31-5251  405-959-1129   \n",
       "1   19.0   190.0              0.0   190.0  ...  627-31-5251  405-959-1129   \n",
       "2  149.9  1199.2              0.0  1199.2  ...  627-31-5251  405-959-1129   \n",
       "\n",
       "  Place Name  County    City State    Zip Region User Name Discount_Percent  \n",
       "0     Vinson  Harmon  Vinson    OK  73571  South   jwtitus              0.0  \n",
       "1     Vinson  Harmon  Vinson    OK  73571  South   jwtitus              0.0  \n",
       "2     Vinson  Harmon  Vinson    OK  73571  South   jwtitus              0.0  \n",
       "\n",
       "[3 rows x 36 columns]"
      ]
     },
     "execution_count": 2,
     "metadata": {},
     "output_type": "execute_result"
    }
   ],
   "source": [
    "# load data\n",
    "dataset = pd.read_csv('sales_dataset.csv')\n",
    "dataset.head(3)"
   ]
  },
  {
   "cell_type": "markdown",
   "metadata": {},
   "source": [
    "Data Preprocessing"
   ]
  },
  {
   "cell_type": "code",
   "execution_count": 3,
   "metadata": {},
   "outputs": [
    {
     "data": {
      "text/html": [
       "<div>\n",
       "<style scoped>\n",
       "    .dataframe tbody tr th:only-of-type {\n",
       "        vertical-align: middle;\n",
       "    }\n",
       "\n",
       "    .dataframe tbody tr th {\n",
       "        vertical-align: top;\n",
       "    }\n",
       "\n",
       "    .dataframe thead th {\n",
       "        text-align: right;\n",
       "    }\n",
       "</style>\n",
       "<table border=\"1\" class=\"dataframe\">\n",
       "  <thead>\n",
       "    <tr style=\"text-align: right;\">\n",
       "      <th></th>\n",
       "      <th>order_date</th>\n",
       "      <th>Customer_Since</th>\n",
       "      <th>category</th>\n",
       "      <th>Gender</th>\n",
       "      <th>age</th>\n",
       "      <th>Region</th>\n",
       "      <th>State</th>\n",
       "      <th>price</th>\n",
       "      <th>Discount_Percent</th>\n",
       "      <th>total</th>\n",
       "    </tr>\n",
       "  </thead>\n",
       "  <tbody>\n",
       "    <tr>\n",
       "      <th>0</th>\n",
       "      <td>10/1/2020</td>\n",
       "      <td>8/22/2006</td>\n",
       "      <td>Men's Fashion</td>\n",
       "      <td>F</td>\n",
       "      <td>43</td>\n",
       "      <td>South</td>\n",
       "      <td>OK</td>\n",
       "      <td>89.9</td>\n",
       "      <td>0.0</td>\n",
       "      <td>1798.0</td>\n",
       "    </tr>\n",
       "    <tr>\n",
       "      <th>1</th>\n",
       "      <td>10/1/2020</td>\n",
       "      <td>8/22/2006</td>\n",
       "      <td>Men's Fashion</td>\n",
       "      <td>F</td>\n",
       "      <td>43</td>\n",
       "      <td>South</td>\n",
       "      <td>OK</td>\n",
       "      <td>19.0</td>\n",
       "      <td>0.0</td>\n",
       "      <td>190.0</td>\n",
       "    </tr>\n",
       "    <tr>\n",
       "      <th>2</th>\n",
       "      <td>10/1/2020</td>\n",
       "      <td>8/22/2006</td>\n",
       "      <td>Men's Fashion</td>\n",
       "      <td>F</td>\n",
       "      <td>43</td>\n",
       "      <td>South</td>\n",
       "      <td>OK</td>\n",
       "      <td>149.9</td>\n",
       "      <td>0.0</td>\n",
       "      <td>1199.2</td>\n",
       "    </tr>\n",
       "  </tbody>\n",
       "</table>\n",
       "</div>"
      ],
      "text/plain": [
       "  order_date Customer_Since       category Gender  age Region State  price  \\\n",
       "0  10/1/2020      8/22/2006  Men's Fashion      F   43  South    OK   89.9   \n",
       "1  10/1/2020      8/22/2006  Men's Fashion      F   43  South    OK   19.0   \n",
       "2  10/1/2020      8/22/2006  Men's Fashion      F   43  South    OK  149.9   \n",
       "\n",
       "   Discount_Percent   total  \n",
       "0               0.0  1798.0  \n",
       "1               0.0   190.0  \n",
       "2               0.0  1199.2  "
      ]
     },
     "execution_count": 3,
     "metadata": {},
     "output_type": "execute_result"
    }
   ],
   "source": [
    "# keep relevant features\n",
    "dataset = dataset[['order_date', 'Customer_Since', 'category', 'Gender', 'age', 'Region', 'State', 'price', 'Discount_Percent', 'total']]\n",
    "dataset.head(3)"
   ]
  },
  {
   "cell_type": "code",
   "execution_count": 4,
   "metadata": {},
   "outputs": [],
   "source": [
    "# seperate month and year, drop years\n",
    "dataset[['order_month','order_date', 'order_year']] = dataset.order_date.str.split(\"/\", expand=True)\n",
    "dataset[['customer_since_month','customer_since_date', 'customer_since_year']] = dataset.Customer_Since.str.split(\"/\", expand=True)\n",
    "dataset.drop('Customer_Since', axis=1, inplace=True)"
   ]
  },
  {
   "cell_type": "code",
   "execution_count": 5,
   "metadata": {},
   "outputs": [
    {
     "data": {
      "text/plain": [
       "Index(['order_date', 'category', 'Gender', 'age', 'Region', 'State', 'price',\n",
       "       'Discount_Percent', 'total', 'order_month', 'order_year',\n",
       "       'customer_since_month', 'customer_since_date', 'customer_since_year'],\n",
       "      dtype='object')"
      ]
     },
     "execution_count": 5,
     "metadata": {},
     "output_type": "execute_result"
    }
   ],
   "source": [
    "dataset.columns"
   ]
  },
  {
   "cell_type": "code",
   "execution_count": 6,
   "metadata": {},
   "outputs": [
    {
     "name": "stdout",
     "output_type": "stream",
     "text": [
      "<class 'pandas.core.frame.DataFrame'>\n",
      "RangeIndex: 286392 entries, 0 to 286391\n",
      "Data columns (total 14 columns):\n",
      " #   Column                Non-Null Count   Dtype  \n",
      "---  ------                --------------   -----  \n",
      " 0   order_date            286392 non-null  object \n",
      " 1   category              286392 non-null  object \n",
      " 2   Gender                286392 non-null  object \n",
      " 3   age                   286392 non-null  int64  \n",
      " 4   Region                286392 non-null  object \n",
      " 5   State                 286392 non-null  object \n",
      " 6   price                 286392 non-null  float64\n",
      " 7   Discount_Percent      286392 non-null  float64\n",
      " 8   total                 286392 non-null  float64\n",
      " 9   order_month           286392 non-null  object \n",
      " 10  order_year            286392 non-null  object \n",
      " 11  customer_since_month  286392 non-null  object \n",
      " 12  customer_since_date   286392 non-null  object \n",
      " 13  customer_since_year   286392 non-null  object \n",
      "dtypes: float64(3), int64(1), object(10)\n",
      "memory usage: 30.6+ MB\n"
     ]
    }
   ],
   "source": [
    "# get information about the dataset\n",
    "dataset.info()"
   ]
  },
  {
   "cell_type": "markdown",
   "metadata": {},
   "source": [
    "###### Categorical Features - months | category | gender | region | state "
   ]
  },
  {
   "cell_type": "markdown",
   "metadata": {},
   "source": [
    "Label Encoding"
   ]
  },
  {
   "cell_type": "code",
   "execution_count": 7,
   "metadata": {},
   "outputs": [],
   "source": [
    "encoder = LabelEncoder()"
   ]
  },
  {
   "cell_type": "code",
   "execution_count": 8,
   "metadata": {},
   "outputs": [],
   "source": [
    "cat_features = ['category', 'Gender', 'Region', 'State', 'order_date', 'order_month', 'customer_since_date', 'customer_since_month']\n",
    "\n",
    "for cat_feature in cat_features:\n",
    "    dataset[cat_feature] = encoder.fit_transform(dataset[cat_feature])"
   ]
  },
  {
   "cell_type": "code",
   "execution_count": 9,
   "metadata": {},
   "outputs": [
    {
     "data": {
      "text/html": [
       "<div>\n",
       "<style scoped>\n",
       "    .dataframe tbody tr th:only-of-type {\n",
       "        vertical-align: middle;\n",
       "    }\n",
       "\n",
       "    .dataframe tbody tr th {\n",
       "        vertical-align: top;\n",
       "    }\n",
       "\n",
       "    .dataframe thead th {\n",
       "        text-align: right;\n",
       "    }\n",
       "</style>\n",
       "<table border=\"1\" class=\"dataframe\">\n",
       "  <thead>\n",
       "    <tr style=\"text-align: right;\">\n",
       "      <th></th>\n",
       "      <th>order_date</th>\n",
       "      <th>category</th>\n",
       "      <th>Gender</th>\n",
       "      <th>age</th>\n",
       "      <th>Region</th>\n",
       "      <th>State</th>\n",
       "      <th>price</th>\n",
       "      <th>Discount_Percent</th>\n",
       "      <th>total</th>\n",
       "      <th>order_month</th>\n",
       "      <th>order_year</th>\n",
       "      <th>customer_since_month</th>\n",
       "      <th>customer_since_date</th>\n",
       "      <th>customer_since_year</th>\n",
       "    </tr>\n",
       "  </thead>\n",
       "  <tbody>\n",
       "    <tr>\n",
       "      <th>0</th>\n",
       "      <td>0</td>\n",
       "      <td>8</td>\n",
       "      <td>0</td>\n",
       "      <td>43</td>\n",
       "      <td>2</td>\n",
       "      <td>36</td>\n",
       "      <td>89.9</td>\n",
       "      <td>0.0</td>\n",
       "      <td>1798.0</td>\n",
       "      <td>1</td>\n",
       "      <td>2020</td>\n",
       "      <td>10</td>\n",
       "      <td>14</td>\n",
       "      <td>2006</td>\n",
       "    </tr>\n",
       "    <tr>\n",
       "      <th>1</th>\n",
       "      <td>0</td>\n",
       "      <td>8</td>\n",
       "      <td>0</td>\n",
       "      <td>43</td>\n",
       "      <td>2</td>\n",
       "      <td>36</td>\n",
       "      <td>19.0</td>\n",
       "      <td>0.0</td>\n",
       "      <td>190.0</td>\n",
       "      <td>1</td>\n",
       "      <td>2020</td>\n",
       "      <td>10</td>\n",
       "      <td>14</td>\n",
       "      <td>2006</td>\n",
       "    </tr>\n",
       "    <tr>\n",
       "      <th>2</th>\n",
       "      <td>0</td>\n",
       "      <td>8</td>\n",
       "      <td>0</td>\n",
       "      <td>43</td>\n",
       "      <td>2</td>\n",
       "      <td>36</td>\n",
       "      <td>149.9</td>\n",
       "      <td>0.0</td>\n",
       "      <td>1199.2</td>\n",
       "      <td>1</td>\n",
       "      <td>2020</td>\n",
       "      <td>10</td>\n",
       "      <td>14</td>\n",
       "      <td>2006</td>\n",
       "    </tr>\n",
       "  </tbody>\n",
       "</table>\n",
       "</div>"
      ],
      "text/plain": [
       "   order_date  category  Gender  age  Region  State  price  Discount_Percent  \\\n",
       "0           0         8       0   43       2     36   89.9               0.0   \n",
       "1           0         8       0   43       2     36   19.0               0.0   \n",
       "2           0         8       0   43       2     36  149.9               0.0   \n",
       "\n",
       "    total  order_month order_year  customer_since_month  customer_since_date  \\\n",
       "0  1798.0            1       2020                    10                   14   \n",
       "1   190.0            1       2020                    10                   14   \n",
       "2  1199.2            1       2020                    10                   14   \n",
       "\n",
       "  customer_since_year  \n",
       "0                2006  \n",
       "1                2006  \n",
       "2                2006  "
      ]
     },
     "execution_count": 9,
     "metadata": {},
     "output_type": "execute_result"
    }
   ],
   "source": [
    "dataset.head(3)"
   ]
  },
  {
   "cell_type": "markdown",
   "metadata": {},
   "source": [
    "Split train and test dataset"
   ]
  },
  {
   "cell_type": "code",
   "execution_count": 10,
   "metadata": {},
   "outputs": [],
   "source": [
    "X = dataset.drop(columns='total', axis=1)\n",
    "Y = dataset['total']"
   ]
  },
  {
   "cell_type": "code",
   "execution_count": 11,
   "metadata": {},
   "outputs": [],
   "source": [
    "X_train, X_test, Y_train, Y_test = train_test_split(X, Y, test_size=0.25, random_state=2)"
   ]
  },
  {
   "cell_type": "markdown",
   "metadata": {},
   "source": [
    "Feature Scaling"
   ]
  },
  {
   "cell_type": "code",
   "execution_count": 12,
   "metadata": {},
   "outputs": [],
   "source": [
    "from sklearn.preprocessing import StandardScaler\n",
    "from sklearn import preprocessing\n",
    "\n",
    "#Creating StandardScaler Object\n",
    "scaler = preprocessing.StandardScaler() \n",
    "\n",
    "\n",
    "X_train = scaler.fit_transform(X_train)\n",
    "X_test = scaler.transform(X_test) "
   ]
  },
  {
   "cell_type": "markdown",
   "metadata": {},
   "source": [
    "Model Training"
   ]
  },
  {
   "cell_type": "code",
   "execution_count": 13,
   "metadata": {},
   "outputs": [],
   "source": [
    "regressor = XGBRegressor()"
   ]
  },
  {
   "cell_type": "code",
   "execution_count": 14,
   "metadata": {},
   "outputs": [
    {
     "data": {
      "text/plain": [
       "XGBRegressor(base_score=0.5, booster='gbtree', callbacks=None,\n",
       "             colsample_bylevel=1, colsample_bynode=1, colsample_bytree=1,\n",
       "             early_stopping_rounds=None, enable_categorical=False,\n",
       "             eval_metric=None, gamma=0, gpu_id=-1, grow_policy='depthwise',\n",
       "             importance_type=None, interaction_constraints='',\n",
       "             learning_rate=0.300000012, max_bin=256, max_cat_to_onehot=4,\n",
       "             max_delta_step=0, max_depth=6, max_leaves=0, min_child_weight=1,\n",
       "             missing=nan, monotone_constraints='()', n_estimators=100, n_jobs=0,\n",
       "             num_parallel_tree=1, predictor='auto', random_state=0, reg_alpha=0,\n",
       "             reg_lambda=1, ...)"
      ]
     },
     "execution_count": 14,
     "metadata": {},
     "output_type": "execute_result"
    }
   ],
   "source": [
    "regressor.fit(X_train, Y_train)"
   ]
  },
  {
   "cell_type": "markdown",
   "metadata": {},
   "source": [
    "Evaluation"
   ]
  },
  {
   "cell_type": "code",
   "execution_count": 15,
   "metadata": {},
   "outputs": [
    {
     "name": "stdout",
     "output_type": "stream",
     "text": [
      "R Squared value =  0.9379658260524534\n"
     ]
    }
   ],
   "source": [
    "# prediction on training data\n",
    "training_data_prediction = regressor.predict(X_train)\n",
    "# R squared Value\n",
    "r2_train = metrics.r2_score(Y_train, training_data_prediction)\n",
    "print('R Squared value = ', r2_train)"
   ]
  },
  {
   "cell_type": "code",
   "execution_count": 16,
   "metadata": {},
   "outputs": [
    {
     "name": "stdout",
     "output_type": "stream",
     "text": [
      "R Squared value =  0.8682961776778834\n"
     ]
    }
   ],
   "source": [
    "# prediction on test data\n",
    "test_data_prediction = regressor.predict(X_test)\n",
    "# R squared Value\n",
    "r2_test = metrics.r2_score(Y_test, test_data_prediction)\n",
    "print('R Squared value = ', r2_test)"
   ]
  },
  {
   "cell_type": "code",
   "execution_count": 17,
   "metadata": {},
   "outputs": [],
   "source": [
    "import pickle \n",
    "pickle_out = open(\"xgbregressor.pkl\", \"wb\")\n",
    "pickle.dump(regressor, pickle_out)\n"
   ]
  }
 ],
 "metadata": {
  "kernelspec": {
   "display_name": "Python 3.7.5 ('pytorch')",
   "language": "python",
   "name": "python3"
  },
  "language_info": {
   "codemirror_mode": {
    "name": "ipython",
    "version": 3
   },
   "file_extension": ".py",
   "mimetype": "text/x-python",
   "name": "python",
   "nbconvert_exporter": "python",
   "pygments_lexer": "ipython3",
   "version": "3.7.5"
  },
  "orig_nbformat": 4,
  "vscode": {
   "interpreter": {
    "hash": "da6252835bcce250c2c60fcac2596d9e161b65de6a004025a1bc9c3d985bafe9"
   }
  }
 },
 "nbformat": 4,
 "nbformat_minor": 2
}
